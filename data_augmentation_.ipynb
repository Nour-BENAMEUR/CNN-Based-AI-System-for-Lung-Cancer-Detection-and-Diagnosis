{
  "cells": [
    {
      "cell_type": "code",
      "execution_count": null,
      "metadata": {
        "id": "Je5W7zgKif76"
      },
      "outputs": [],
      "source": [
        "import Augmentor\n",
        "\n",
        "# Chemin vers le dossier contenant toutes les images des cas bengin\n",
        "path_to_images = '/content/drive/MyDrive/The IQ-OTHNCCD lung cancer dataset/Bengin cases'\n",
        "\n",
        "# Créer un pipeline d'augmentation\n",
        "p = Augmentor.Pipeline(source_directory=path_to_images, output_directory=path_to_images)\n",
        "#les images génere suite à la data augmentation le dossier de sortie\n",
        "# Appliquer les augmentations\n",
        "p.rotate(probability=0.7, max_left_rotation=10, max_right_rotation=10)\n",
        "p.sample(20)\n"
      ]
    },
    {
      "cell_type": "markdown",
      "metadata": {
        "id": "YYiKlOLnimWw"
      },
      "source": [
        "Augmentor permet d'ajouter des images similaires à nos images d'origine avec la méthode de rotation, il suffit juste de préciser les paramètres suivants : probabilité, max_left_rotation, max_right_rotation et le nombre d'images qu'on veut ajouter.\n",
        "Appliquer ce code pour chaque fichier du dataset (begnin, malignant and normal cases)"
      ]
    },
    {
      "cell_type": "code",
      "execution_count": null,
      "metadata": {
        "id": "5V5VHEKpi-GD"
      },
      "outputs": [],
      "source": []
    }
  ],
  "metadata": {
    "colab": {
      "provenance": []
    },
    "kernelspec": {
      "display_name": "Python 3",
      "name": "python3"
    },
    "language_info": {
      "name": "python"
    }
  },
  "nbformat": 4,
  "nbformat_minor": 0
}
