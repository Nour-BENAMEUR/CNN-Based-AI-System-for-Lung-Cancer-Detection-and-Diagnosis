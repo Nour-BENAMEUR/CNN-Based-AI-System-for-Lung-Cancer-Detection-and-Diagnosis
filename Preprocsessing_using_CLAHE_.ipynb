{
  "cells": [
    {
      "cell_type": "code",
      "execution_count": null,
      "metadata": {
        "id": "BQ3vduYezxu3"
      },
      "outputs": [],
      "source": [
        "import cv2\n",
        "import numpy as np\n",
        "import os\n",
        "\n",
        "def preprocess_grayscale_image(input_folder, output_folder):\n",
        "\n",
        "    for img_name in os.listdir(input_folder):\n",
        "        if img_name.lower().endswith(('.jpg', '.jpeg')):\n",
        "            input_path = os.path.join(input_folder, img_name)\n",
        "            output_path = os.path.join(output_folder, f\"processed_{img_name}\")\n",
        "\n",
        "            # Charger l'image en niveaux de gris\n",
        "            img = cv2.imread(input_path, cv2.IMREAD_GRAYSCALE)\n",
        "            if img is None:\n",
        "                print(f\"Warning: Could not load {img_name}. Skipping.\")\n",
        "                continue\n",
        "\n",
        "\n",
        "            clahe = cv2.createCLAHE(clipLimit=2.0, tileGridSize=(8,8))\n",
        "            clahe_img = clahe.apply(img)\n",
        "\n",
        "            processed_img = clahe_img\n",
        "\n",
        "            # Enregistrer l'image traitée\n",
        "            cv2.imwrite(output_path, processed_img)\n",
        "            print(f\"Processed and saved: {output_path}\")\n",
        "\n",
        "# Exemple d'utilisation :\n",
        "input_dir = \"/content/drive/MyDrive/The IQ-OTHNCCD lung cancer dataset/Malignant cases\"\n",
        "output_dir = \"/content/drive/MyDrive/The IQ-OTHNCCD lung cancer dataset/Malignant cases clahe\"\n",
        "preprocess_grayscale_image(input_dir, output_dir)"
      ]
    },
    {
      "cell_type": "markdown",
      "metadata": {
        "id": "g7fO6e9nz86Y"
      },
      "source": [
        "Pour le prétraitement des images on a construit une fonction qui utilise la méthode CLAHE (contrast-limited adaptive histogram equalization) il suffit d' utiliser cette fonction en specifiant le fichier d'entreé et le fichier de sortie où on aura les images traités\n",
        "Appliquer ce code pour chaque fichier du dataset (begnin, malignant and normal cases)"
      ]
    },
    {
      "cell_type": "code",
      "execution_count": null,
      "metadata": {
        "id": "_POAZ7Gp0YoX"
      },
      "outputs": [],
      "source": []
    }
  ],
  "metadata": {
    "colab": {
      "provenance": []
    },
    "kernelspec": {
      "display_name": "Python 3",
      "name": "python3"
    },
    "language_info": {
      "name": "python"
    }
  },
  "nbformat": 4,
  "nbformat_minor": 0
}
